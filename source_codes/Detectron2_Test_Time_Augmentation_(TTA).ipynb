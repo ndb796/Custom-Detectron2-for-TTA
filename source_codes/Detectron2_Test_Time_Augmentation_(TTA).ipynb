{
  "nbformat": 4,
  "nbformat_minor": 0,
  "metadata": {
    "colab": {
      "name": "Detectron2 Test-Time Augmentation (TTA)",
      "provenance": [],
      "collapsed_sections": []
    },
    "kernelspec": {
      "name": "python3",
      "display_name": "Python 3"
    },
    "language_info": {
      "name": "python"
    },
    "accelerator": "GPU"
  },
  "cells": [
    {
      "cell_type": "markdown",
      "metadata": {
        "id": "tKVOOxScRqMB"
      },
      "source": [
        "### <b>Detectron2 설치</b>"
      ]
    },
    {
      "cell_type": "code",
      "metadata": {
        "id": "FXiTnQMFRiBp"
      },
      "source": [
        "!pip install pyyaml==5.1\n",
        "\n",
        "# PyTorch 1.9.0 버전에 맞는 Detectron2 설치하기\n",
        "!pip install detectron2 -f https://dl.fbaipublicfiles.com/detectron2/wheels/cu102/torch1.9/index.html\n",
        "\n",
        "# 설치가 완료되면 런타임 재시작하기"
      ],
      "execution_count": null,
      "outputs": []
    },
    {
      "cell_type": "code",
      "metadata": {
        "colab": {
          "base_uri": "https://localhost:8080/"
        },
        "id": "Fptf7b5zRsQN",
        "outputId": "4b67ea5b-aa6e-4f99-8181-20992f0f632b"
      },
      "source": [
        "# PyTorch 설치 정보 확인 (1.9.0 버전이 본 실습의 기본 설정)\n",
        "import torch, torchvision\n",
        "print(torch.__version__, torch.cuda.is_available())"
      ],
      "execution_count": null,
      "outputs": [
        {
          "output_type": "stream",
          "text": [
            "1.9.0+cu102 True\n"
          ],
          "name": "stdout"
        }
      ]
    },
    {
      "cell_type": "code",
      "metadata": {
        "id": "Ju4Uy36gR4hs"
      },
      "source": [
        "# Detectron2 로깅(logging) 설정\n",
        "import detectron2\n",
        "from detectron2.utils.logger import setup_logger\n",
        "setup_logger()\n",
        "\n",
        "# 일반적으로 많이 사용되는 라이브러리 불러오기\n",
        "import numpy as np\n",
        "import os, json, cv2, random\n",
        "from google.colab.patches import cv2_imshow\n",
        "\n",
        "# 일반적으로 많이 사용되는 Detectron2 라이브러리 불러오기\n",
        "from detectron2 import model_zoo # Detectron2 모델\n",
        "from detectron2.engine import DefaultPredictor\n",
        "from detectron2.config import get_cfg\n",
        "from detectron2.utils.visualizer import Visualizer\n",
        "from detectron2.data import MetadataCatalog, DatasetCatalog"
      ],
      "execution_count": null,
      "outputs": []
    },
    {
      "cell_type": "markdown",
      "metadata": {
        "id": "MyTwrwubSINr"
      },
      "source": [
        "### <b>사전 학습된 Detectron2 모델 불러오기</b>\n"
      ]
    },
    {
      "cell_type": "markdown",
      "metadata": {
        "id": "yXtlpguKSOzb"
      },
      "source": [
        "* Detectron2 환경설정(config) 정보를 생성한 뒤에 DefaultPredictor를 이용해 이미지에 대하여 추론합니다.\n",
        "* [Detectron2 기본 환경설정 정보 확인하기](https://detectron2.readthedocs.io/en/latest/modules/config.html#config-references)\n",
        "    * 참고로 cfg.MODEL.ROI_HEADS.SCORE_THRESH_TEST의 기본 값은 0.05입니다."
      ]
    },
    {
      "cell_type": "code",
      "metadata": {
        "colab": {
          "base_uri": "https://localhost:8080/"
        },
        "id": "rr2yCoJySMds",
        "outputId": "6f1a40b7-a28a-41eb-8ea9-c1a11d120a7a"
      },
      "source": [
        "cfg = get_cfg()\n",
        "cfg.merge_from_file(model_zoo.get_config_file(\"COCO-Detection/faster_rcnn_R_50_FPN_3x.yaml\"))\n",
        "# Detectron2 모델을 찾아 학습된 가중치 불러오기\n",
        "cfg.MODEL.WEIGHTS = model_zoo.get_checkpoint_url(\"COCO-Detection/faster_rcnn_R_50_FPN_3x.yaml\")\n",
        "predictor = DefaultPredictor(cfg)"
      ],
      "execution_count": null,
      "outputs": [
        {
          "output_type": "stream",
          "text": [
            "model_final_280758.pkl: 167MB [00:09, 17.2MB/s]                           \n",
            "The checkpoint state_dict contains keys that are not used by the model:\n",
            "  \u001b[35mproposal_generator.anchor_generator.cell_anchors.{0, 1, 2, 3, 4}\u001b[0m\n"
          ],
          "name": "stderr"
        }
      ]
    },
    {
      "cell_type": "code",
      "metadata": {
        "id": "7i-VuUahSQzc"
      },
      "source": [
        "outputs = predictor(im) # 이미지를 모델에 넣어 결과 계산하기\n",
        "\n",
        "# 결과 출력하기\n",
        "print(outputs[\"instances\"].pred_classes)\n",
        "print(outputs[\"instances\"].pred_boxes)"
      ],
      "execution_count": null,
      "outputs": []
    },
    {
      "cell_type": "code",
      "metadata": {
        "id": "LV95iPh_SRpU"
      },
      "source": [
        "# Visualizer를 이용해 이미지와 함께 예측 결과를 출력하기\n",
        "v = Visualizer(im[:, :, ::-1], MetadataCatalog.get(cfg.DATASETS.TRAIN[0]), scale=1.2)\n",
        "out = v.draw_instance_predictions(outputs[\"instances\"].to(\"cpu\"))\n",
        "cv2_imshow(out.get_image()[:, :, ::-1])"
      ],
      "execution_count": null,
      "outputs": []
    },
    {
      "cell_type": "markdown",
      "metadata": {
        "id": "lsb94V6VSaQh"
      },
      "source": [
        "### <b>데이터셋 등록하기</b>"
      ]
    },
    {
      "cell_type": "code",
      "metadata": {
        "id": "zfgf4_7USbCz"
      },
      "source": [
        "from detectron2.data.datasets import register_coco_instances\n",
        "\n",
        "register_coco_instances(\"my_coco_val2017_1000\", {}, \"my_coco_val2017_1000/annotations/instances.json\", \"my_coco_val2017_1000/data\")"
      ],
      "execution_count": null,
      "outputs": []
    },
    {
      "cell_type": "markdown",
      "metadata": {
        "id": "2ZzT4KvJSZiZ"
      },
      "source": [
        "### <b>평가 진행하기</b>"
      ]
    },
    {
      "cell_type": "code",
      "metadata": {
        "id": "XHEW2dXnSSrU"
      },
      "source": [
        "from detectron2.evaluation import COCOEvaluator, inference_on_dataset\n",
        "from detectron2.data import build_detection_test_loader\n",
        "\n",
        "evaluator = COCOEvaluator(\"my_coco_val2017_1000\") # output_dir 인자 값이 없으면 오류 발생할 수 있음\n",
        "val_loader = build_detection_test_loader(cfg, \"my_coco_val2017_1000\")\n",
        "print(inference_on_dataset(predictor.model, val_loader, evaluator))"
      ],
      "execution_count": null,
      "outputs": []
    },
    {
      "cell_type": "markdown",
      "metadata": {
        "id": "clp7kxBPSwU6"
      },
      "source": [
        "#### <b>Test-Time Augmentation (TTA)</b>\n",
        "\n",
        "* Detectron2에서의 [TTA 구현](https://github.com/facebookresearch/detectron2/blob/master/detectron2/modeling/test_time_augmentation.py)을 참고할 수 있습니다.\n",
        "* Detectron2의 [modeling 라이브러리](https://detectron2.readthedocs.io/en/latest/modules/modeling.html#detectron2.modeling.GeneralizedRCNNWithTTA)를 참고할 수 있습니다.\n",
        "* Detectron2의 [TTA 관련 질문](https://github.com/facebookresearch/detectron2/issues?q=TTA)을 참고할 수 있습니다."
      ]
    },
    {
      "cell_type": "code",
      "metadata": {
        "id": "heTkym6uSlek"
      },
      "source": [
        "from detectron2.modeling import GeneralizedRCNNWithTTA\n",
        "\n",
        "tta_model = GeneralizedRCNNWithTTA(cfg, predictor.model)"
      ],
      "execution_count": null,
      "outputs": []
    },
    {
      "cell_type": "code",
      "metadata": {
        "id": "XGW9pPcnSwqs"
      },
      "source": [
        "print(inference_on_dataset(tta_model, val_loader, evaluator))"
      ],
      "execution_count": null,
      "outputs": []
    },
    {
      "cell_type": "markdown",
      "metadata": {
        "id": "iPwk4xYaWf5H"
      },
      "source": [
        "#### <b>다양한 모델로 실험해보기</b>"
      ]
    },
    {
      "cell_type": "code",
      "metadata": {
        "id": "jpiPxwmvWjEp"
      },
      "source": [
        "cfg = get_cfg()\n",
        "cfg.merge_from_file(model_zoo.get_config_file(\"COCO-Detection/faster_rcnn_R_101_FPN_3x.yaml\"))\n",
        "cfg.MODEL.WEIGHTS = model_zoo.get_checkpoint_url(\"COCO-Detection/faster_rcnn_R_101_FPN_3x.yaml\")\n",
        "predictor_2 = DefaultPredictor(cfg)\n",
        "print(inference_on_dataset(predictor_2.model, val_loader, evaluator))"
      ],
      "execution_count": null,
      "outputs": []
    },
    {
      "cell_type": "code",
      "metadata": {
        "id": "UjdMAiVuXB2E"
      },
      "source": [
        "tta_model_2 = GeneralizedRCNNWithTTA(cfg, predictor_2.model)\n",
        "print(inference_on_dataset(tta_model_2, val_loader, evaluator))"
      ],
      "execution_count": null,
      "outputs": []
    },
    {
      "cell_type": "code",
      "metadata": {
        "id": "7jXbQZThXNAr"
      },
      "source": [
        "cfg = get_cfg()\n",
        "cfg.merge_from_file(model_zoo.get_config_file(\"COCO-Detection/faster_rcnn_X_101_32x8d_FPN_3x.yaml\"))\n",
        "cfg.MODEL.WEIGHTS = model_zoo.get_checkpoint_url(\"COCO-Detection/faster_rcnn_X_101_32x8d_FPN_3x.yaml\")\n",
        "predictor_3 = DefaultPredictor(cfg)\n",
        "print(inference_on_dataset(predictor_3.model, val_loader, evaluator))"
      ],
      "execution_count": null,
      "outputs": []
    },
    {
      "cell_type": "code",
      "metadata": {
        "id": "1ZdEGZL0XWyk"
      },
      "source": [
        "tta_model_3 = GeneralizedRCNNWithTTA(cfg, predictor_3.model)\n",
        "print(inference_on_dataset(tta_model_3, val_loader, evaluator))"
      ],
      "execution_count": null,
      "outputs": []
    }
  ]
}